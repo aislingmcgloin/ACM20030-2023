{
 "cells": [
  {
   "cell_type": "markdown",
   "metadata": {},
   "source": [
    "# Assignment 4\n",
    "\n",
    "This assignment covers material on numerical integration.\n",
    "\n",
    "The breakdown of the marks is as follows:\n",
    "\n",
    "Question 0 - [1 mark]  \n",
    "Question 1 - [4 marks]  \n",
    "Questino 2 - [5 marks]  \n",
    "Question 3 - [5 marks]  \n",
    "Question 4 - [5 marks]  \n",
    "Question 5 - [5 marks]  \n",
    "Question 6 - [5 marks]  "
   ]
  },
  {
   "cell_type": "markdown",
   "metadata": {},
   "source": [
    " **Please enter your student number in the cell below**"
   ]
  },
  {
   "cell_type": "markdown",
   "metadata": {},
   "source": []
  },
  {
   "cell_type": "markdown",
   "metadata": {},
   "source": [
    "# Question 0\n",
    "\n",
    "You should have saved this notebook to your ACM20030-Assignments folder. Now:\n",
    "- commit the notebook to your local repository\n",
    "- push the changes to the GitHub"
   ]
  },
  {
   "cell_type": "code",
   "execution_count": 1,
   "metadata": {},
   "outputs": [],
   "source": [
    "import numpy as np\n",
    "import matplotlib.pyplot as plt\n",
    "from scipy import integrate"
   ]
  },
  {
   "cell_type": "code",
   "execution_count": 2,
   "metadata": {},
   "outputs": [],
   "source": [
    "# The below commands make the font and image size bigger\n",
    "plt.rcParams.update({'font.size': 22})\n",
    "plt.rcParams[\"figure.figsize\"] = (15,10)"
   ]
  },
  {
   "cell_type": "markdown",
   "metadata": {},
   "source": [
    "# Question 1"
   ]
  },
  {
   "cell_type": "markdown",
   "metadata": {},
   "source": [
    "In this question you will be asked to evaluate definite integrals in the form:\n",
    "\n",
    "$$ \\int_a^b f(x)\\, dx$$ \n",
    "\n",
    "using Simpson's rule. You can copy code from the [examples repository](https://github.com/nielsw2/ACM20030-Examples) if you wish but if you do, remove all the plotting functionality. Do not use SciPy or any other library to evaluate the integrals, unless explicitly asked to do so.\n",
    "\n",
    "First write a function that integrates another function using Simpson's rule. This function will get used in multiple questions in this assignment."
   ]
  },
  {
   "cell_type": "code",
   "execution_count": 5,
   "metadata": {},
   "outputs": [],
   "source": [
    "def NIntegrate(f, a, b, N, method='Simpsons'):\n",
    "    dx = (b-a)/N\n",
    "    xi = a\n",
    "    i = 0\n",
    "    area = 0\n",
    "    while i < N:\n",
    "        if(method == 'Simpsons'):\n",
    "            area += dx/6*(f(xi) + 4*f((2*xi+dx)/2) + f(xi+dx))\n",
    "        elif(method == 'midpoint'):\n",
    "            area += dx * f(xi+dx/2)\n",
    "        elif(method == 'trapezoidal'):\n",
    "            area += dx/2 * (f(xi) + f(xi+dx))\n",
    "        xi += dx\n",
    "        i+= 1\n",
    "    return area\n"
   ]
  },
  {
   "cell_type": "markdown",
   "metadata": {},
   "source": [
    "## Q1 a\n",
    "\n",
    "Evaluate $$ \\frac{1}{\\sqrt{\\pi}}\\int^{15}_{-15} x^2 e^{-x^2}\\, dx$$\n",
    "\n",
    "Use enough strips so that the result is accurate to a relative error of of at least 1e-6. Hint: to within machine precision the above integral evaluates to  1/2 ."
   ]
  },
  {
   "cell_type": "code",
   "execution_count": 7,
   "metadata": {},
   "outputs": [
    {
     "data": {
      "text/plain": [
       "0.4999999999999998"
      ]
     },
     "execution_count": 7,
     "metadata": {},
     "output_type": "execute_result"
    }
   ],
   "source": [
    "def f(x):\n",
    "    return x**2*np.exp(-x**2)\n",
    "1/np.sqrt(np.pi)*NIntegrate(f,-15,15,100)"
   ]
  },
  {
   "cell_type": "markdown",
   "metadata": {},
   "source": [
    "## Q1 b\n",
    "\n",
    "Evaluate\n",
    "\n",
    "$$\\int^{50}_{-50} \\frac{1}{\\cosh x}\\,dx $$\n",
    "\n",
    "Use enough strips so that the result is accurate to a relative error of  of at least `1e-6`. Hint: to within machine precision the above integral evaluates to $\\pi$."
   ]
  },
  {
   "cell_type": "code",
   "execution_count": 8,
   "metadata": {
    "scrolled": true
   },
   "outputs": [
    {
     "data": {
      "text/plain": [
       "4.959822759165178e-07"
      ]
     },
     "execution_count": 8,
     "metadata": {},
     "output_type": "execute_result"
    }
   ],
   "source": [
    "def g(x):\n",
    "    return 1/np.cosh(x)\n",
    "1-NIntegrate(g, -50, 50, 150)/np.pi"
   ]
  },
  {
   "cell_type": "markdown",
   "metadata": {},
   "source": [
    "## Q1 c\n",
    "\n",
    "Use SciPy's `integrate.quad()` function to evaluate the integrals in Q1a and Q1b"
   ]
  },
  {
   "cell_type": "code",
   "execution_count": 9,
   "metadata": {},
   "outputs": [
    {
     "data": {
      "text/plain": [
       "0.49999999999999994"
      ]
     },
     "execution_count": 9,
     "metadata": {},
     "output_type": "execute_result"
    }
   ],
   "source": [
    "from scipy import integrate\n",
    "1/np.sqrt(np.pi)*integrate.quad(f, -15,15)[0]"
   ]
  },
  {
   "cell_type": "code",
   "execution_count": 10,
   "metadata": {},
   "outputs": [
    {
     "data": {
      "text/plain": [
       "(3.141592653589793, 5.5381858831212136e-11)"
      ]
     },
     "execution_count": 10,
     "metadata": {},
     "output_type": "execute_result"
    }
   ],
   "source": [
    "integrate.quad(g, -50, 50)"
   ]
  },
  {
   "cell_type": "markdown",
   "metadata": {},
   "source": [
    "Now commit your notebook to your git repository and push the changes to GitHub.\n",
    "\n",
    "# Question 2 - improper integrals\n",
    "\n",
    "In the lectures we looked at numerically evaluating indefinite integrals of the form\n",
    "\n",
    "$$ \\int^b_a f(x)\\, dx$$ where $a,b$ are finite. What about improper integrals where either $a$, $b$ or both are infinite? The methods we know so far cannot immediately be applied to these cases.\n",
    "\n",
    "One method is to transform the integral using the result\n",
    "\n",
    "$$ \\int_a^b f(x)\\, dx = \\int^{1/a}_{1/b} t^{-2} f(t^{-1})\\, dt$$\n",
    "\n",
    "which holds so long as $a,b>0$."
   ]
  },
  {
   "cell_type": "markdown",
   "metadata": {},
   "source": [
    "## Q2 a\n",
    "\n",
    "Using the above result numerically evaluate the following integral\n",
    "\n",
    "$$ \\int^\\infty_1 \\frac{\\log(x)}{x^3}\\,dx $$\n",
    "\n",
    "using Simpson's rule. Use 100 strips to evaluate the integral.\n",
    "\n",
    "Hint: you will have to use an `if` statement inside your transformed function for to deal with $t=0$. For this case it is useful to note that $\\lim_{t\\rightarrow0} t \\log(1/t) = 0$."
   ]
  },
  {
   "cell_type": "code",
   "execution_count": 11,
   "metadata": {},
   "outputs": [
    {
     "data": {
      "text/plain": [
       "0.2499980745946372"
      ]
     },
     "execution_count": 11,
     "metadata": {},
     "output_type": "execute_result"
    }
   ],
   "source": [
    "def f(x):\n",
    "    return np.log(x)/x**3\n",
    "def g(t):\n",
    "    if(t == 0):\n",
    "        return 0\n",
    "    else:\n",
    "        return t**-2 * f(1/t) \n",
    "    \n",
    "NIntegrate(g, 0, 1, 100)"
   ]
  },
  {
   "cell_type": "markdown",
   "metadata": {},
   "source": [
    "## Q2 b\n",
    "\n",
    "Numerically evaluate\n",
    "\n",
    "$$ \\int^\\infty_0 \\frac{1}{(x+1)^3}\\,dx$$\n",
    "\n",
    "using Simpson's rule.\n",
    "\n",
    "Hint: break the integral into two integrals, one with a finite domain and one with an infinite domain. In each domain use 100 strips to evalute the integral. Check your answer against the analytic result."
   ]
  },
  {
   "cell_type": "code",
   "execution_count": 13,
   "metadata": {},
   "outputs": [
    {
     "data": {
      "text/plain": [
       "0.5000000000807215"
      ]
     },
     "execution_count": 13,
     "metadata": {},
     "output_type": "execute_result"
    }
   ],
   "source": [
    "def f2(x):\n",
    "    return 1/(x+1)**3\n",
    "\n",
    "def g2(t):\n",
    "    if(t == 0):\n",
    "        return 0\n",
    "    else:\n",
    "        return t**-2 * f2(1/t)\n",
    "\n",
    "NIntegrate(f2, 0, 1, 100) + NIntegrate(g2, 0, 1, 100)"
   ]
  },
  {
   "cell_type": "markdown",
   "metadata": {},
   "source": [
    "Now commit your notebook to your git repository and push the changes to GitHub.\n",
    "\n",
    "# Question 3 - Boole's rule\n",
    "\n",
    "Fitting the integrand to a quintic polynomial results in Boole's rule for integration. In the lecture the formula for Boole's rule was given as\n",
    "\n",
    "$$ \\int^b_a f(x)\\,dx \\simeq \\frac{2 \\Delta x}{45}\\left(7f_0 + 32 f_1 + 12 f_2 +32f_3 + 7 f_4\\right) $$\n",
    "\n",
    "where $\\Delta x = (b-a)/4$, and $f_i = f(a + i\\Delta x)$."
   ]
  },
  {
   "cell_type": "markdown",
   "metadata": {},
   "source": [
    "## Q3 a\n",
    "\n",
    "Write a function that numerically integrates another function using Boole's rule. Use the following function definition:"
   ]
  },
  {
   "cell_type": "code",
   "execution_count": 14,
   "metadata": {},
   "outputs": [],
   "source": [
    "def BooleIntegration(f, a, b, N):\n",
    "    dx = (b-a)/N\n",
    "    xi = a\n",
    "    i = 0\n",
    "    area = 0\n",
    "    \n",
    "    while i < N/4:\n",
    "        area += 2*dx/45 * (7*f(xi) + 32*f(xi + dx) + 12*f(xi + 2*dx) + 32*f(xi + 3*dx) + 7*f(xi + 4*dx) )\n",
    "        xi += 4*dx\n",
    "        i  += 1\n",
    "    return area"
   ]
  },
  {
   "cell_type": "markdown",
   "metadata": {},
   "source": [
    "Test your function by evaluating the following using 100 strips.\n",
    "\n",
    "$$ \\int_0^\\pi \\sin(x)\\,dx $$"
   ]
  },
  {
   "cell_type": "code",
   "execution_count": 15,
   "metadata": {},
   "outputs": [
    {
     "data": {
      "text/plain": [
       "1.9999999999959286"
      ]
     },
     "execution_count": 15,
     "metadata": {},
     "output_type": "execute_result"
    }
   ],
   "source": [
    "def f(x):\n",
    "    return np.sin(x)\n",
    "BooleIntegration(f, 0, np.pi, 100)"
   ]
  },
  {
   "cell_type": "markdown",
   "metadata": {},
   "source": [
    "## Q3 b\n",
    "\n",
    "For Boole's rule show that the global error scales as $\\Delta x^6$. The below plot shows a $\\Delta x^6$ reference line."
   ]
  },
  {
   "cell_type": "code",
   "execution_count": 17,
   "metadata": {},
   "outputs": [
    {
     "data": {
      "image/png": "[encoded data removed]",
      "text/plain": [
       "<Figure size 1080x720 with 1 Axes>"
      ]
     },
     "metadata": {
      "needs_background": "light"
     },
     "output_type": "display_data"
    }
   ],
   "source": [
    "err12 = np.abs(BooleIntegration(f, 0, np.pi, 12) - 2)\n",
    "err24 = np.abs(BooleIntegration(f, 0, np.pi, 24) -2)\n",
    "err48 = np.abs(BooleIntegration(f, 0, np.pi, 48) -2)\n",
    "\n",
    "errArrayX = [12, 24, 48]\n",
    "errArrayY = [err12, err24, err48]\n",
    "\n",
    "x = np.linspace(10,48,100)\n",
    "y = x**-6\n",
    "\n",
    "plt.yscale('log')\n",
    "plt.xscale('log')\n",
    "plt.grid(True)\n",
    "plt.plot(x,y)\n",
    "plt.scatter(errArrayX, errArrayY);"
   ]
  },
  {
   "cell_type": "markdown",
   "metadata": {},
   "source": [
    "Now commit your notebook to your git repository and push the changes to GitHub.\n",
    "\n",
    "# Question 4 - integrand with a singularity\n",
    "\n",
    "The techniques developed in the lecture require the integrand to be continuous and bounded. What happens if there is a singularity in the integrand? In general these can be difficult to deal with (though some more generic methods exist - see, e.g., [Tanh-sinh quadrature](https://en.wikipedia.org/wiki/Tanh-sinh_quadrature)).\n",
    "\n",
    "In this example we will look at an explicit example that can be dealt with by a change of variables. Consider the identity:\n",
    "\n",
    "$$ \\int_0^1 \\frac{f(x)}{x^\\alpha}\\, dx = \\frac{1}{\\alpha} \\int_0^1 f(t^{1/\\alpha}) t^{(1-2\\alpha)/\\alpha}\\,dt$$\n",
    "\n",
    "which is achived by changing variables using $t = x^\\alpha$. This identity holds when $0 < \\alpha < 1$ and $f(x)$ is continous on $[0,1]$."
   ]
  },
  {
   "cell_type": "markdown",
   "metadata": {},
   "source": [
    "Let\n",
    "$$I = \\int^1_0 \\frac{\\cos(10x)}{x^{1/2}}\\,dx $$\n",
    "\n",
    "Plot the integrand in the range $[0,1]$, use a grid and label your axes."
   ]
  },
  {
   "cell_type": "code",
   "execution_count": 19,
   "metadata": {},
   "outputs": [
    {
     "name": "stderr",
     "output_type": "stream",
     "text": [
      "C:\\Users\\aismc\\AppData\\Local\\Temp\\ipykernel_21176\\570526668.py:2: RuntimeWarning: divide by zero encountered in true_divide\n",
      "  return np.cos(10*x)/x**0.5\n"
     ]
    },
    {
     "data": {
      "image/png": "[encoded data removed]",
      "text/plain": [
       "<Figure size 1080x720 with 1 Axes>"
      ]
     },
     "metadata": {
      "needs_background": "light"
     },
     "output_type": "display_data"
    }
   ],
   "source": [
    "def integrand(x):\n",
    "    return np.cos(10*x)/x**0.5\n",
    "x = np.linspace(0,1,100)\n",
    "y = integrand(x)\n",
    "plt.ylabel('integrand')\n",
    "plt.xlabel('x')\n",
    "plt.grid(True)\n",
    "plt.plot(x,y);"
   ]
  },
  {
   "cell_type": "markdown",
   "metadata": {},
   "source": [
    "Define and plot the transformed integrand. For the plot use a grid and label your axes."
   ]
  },
  {
   "cell_type": "code",
   "execution_count": 20,
   "metadata": {},
   "outputs": [
    {
     "data": {
      "image/png": "[encoded data removed]",
      "text/plain": [
       "<Figure size 1080x720 with 1 Axes>"
      ]
     },
     "metadata": {
      "needs_background": "light"
     },
     "output_type": "display_data"
    }
   ],
   "source": [
    "def f(x):\n",
    "    return np.cos(10*x)\n",
    "\n",
    "def g(t):\n",
    "    a = 0.5\n",
    "    return 1/a * f(t**(1/a))*t**((1-2*a)/a)\n",
    "\n",
    "ynew = g(x)\n",
    "plt.ylabel('transformed integrand')\n",
    "plt.xlabel('t')\n",
    "plt.grid(True)\n",
    "plt.plot(x,ynew);"
   ]
  },
  {
   "cell_type": "markdown",
   "metadata": {},
   "source": [
    "Numerically evaluate $I$ using Simpson's rule. Use 100 strips to do this."
   ]
  },
  {
   "cell_type": "code",
   "execution_count": 21,
   "metadata": {},
   "outputs": [
    {
     "data": {
      "text/plain": [
       "0.34636620914645183"
      ]
     },
     "execution_count": 21,
     "metadata": {},
     "output_type": "execute_result"
    }
   ],
   "source": [
    "NIntegrate(g, 0, 1, 100)"
   ]
  },
  {
   "cell_type": "markdown",
   "metadata": {},
   "source": [
    "Now commit your notebook to your git repository and push the changes to GitHub.\n",
    "\n",
    "# Question 5\n",
    "\n",
    "Write your own function to integrate the following data using Simpson's rule."
   ]
  },
  {
   "cell_type": "code",
   "execution_count": 22,
   "metadata": {},
   "outputs": [],
   "source": [
    "x = np.linspace(0, np.pi, 101)\n",
    "dx = x[1]-x[0]\n",
    "y = np.sin(x)"
   ]
  },
  {
   "cell_type": "code",
   "execution_count": 23,
   "metadata": {},
   "outputs": [],
   "source": [
    "def SimpsonsIntegrateData(data, dx):\n",
    "    i = 0\n",
    "    area = 0\n",
    "    while i < data.size-2:\n",
    "        area += dx/3*(data[i] + 4*data[i+1] + data[i+2])\n",
    "        i += 2\n",
    "    return area"
   ]
  },
  {
   "cell_type": "markdown",
   "metadata": {},
   "source": [
    "Integrate the data using your function"
   ]
  },
  {
   "cell_type": "code",
   "execution_count": 24,
   "metadata": {
    "scrolled": true
   },
   "outputs": [
    {
     "data": {
      "text/plain": [
       "2.000000010824504"
      ]
     },
     "execution_count": 24,
     "metadata": {},
     "output_type": "execute_result"
    }
   ],
   "source": [
    "SimpsonsIntegrateData(y, dx)"
   ]
  },
  {
   "cell_type": "markdown",
   "metadata": {},
   "source": [
    "Recall that Simpson's method needs and odd number of data points to work (giving an even number of strips). If you use an even number you will get a bad result. If you check the convergence rate in this case you will see it is not what is expected. Checking the convergence rate is an important test of an integration code."
   ]
  },
  {
   "cell_type": "markdown",
   "metadata": {},
   "source": [
    "Now commit your notebook to your git repository and push the changes to GitHub.\n",
    "\n",
    "# Question 6\n",
    "\n",
    "Evaluate the following integral using both Simpsons rule and an RK4 ODE method\n",
    "\n",
    "$$ \\int_0^5 \\sinh(x) (x-5)\\, dx $$\n",
    "\n",
    "Compare the results of the two methods and take sufficient strips/small enough step sizes to ensure the results agree to a relative accuracy of 1e-6."
   ]
  },
  {
   "cell_type": "code",
   "execution_count": 25,
   "metadata": {},
   "outputs": [
    {
     "name": "stdout",
     "output_type": "stream",
     "text": [
      "-69.20321057585849\n"
     ]
    }
   ],
   "source": [
    "def h(x):\n",
    "    return np.sinh(x)*(x-5)\n",
    "resInt = NIntegrate(h, 0, 5, 400)\n",
    "print(resInt)"
   ]
  },
  {
   "cell_type": "code",
   "execution_count": 29,
   "metadata": {},
   "outputs": [
    {
     "name": "stdout",
     "output_type": "stream",
     "text": [
      "[4.999999999999938, -69.20321057699971]\n"
     ]
    }
   ],
   "source": [
    "def RK4step(f, dx, xi, yi):\n",
    "        k1 = dx*f(xi,yi)\n",
    "        k2 = dx*f(xi + 0.5*dx, yi + 0.5*k1)\n",
    "        k3 = dx*f(xi + 0.5*dx, yi + 0.5*k2)\n",
    "        k4 = dx*f(xi + dx, yi + k3)\n",
    "        \n",
    "        return yi + 1/6*(k1 + 2*k2 + 2*k3 + k4)\n",
    "\n",
    "def RK4(f, dx, x0, y0, imax):\n",
    "    \n",
    "    xi = x0\n",
    "    yi = y0\n",
    "    \n",
    "    i = 0\n",
    "    while i < imax:\n",
    "        yi = RK4Step(f, dx, xi, yi)\n",
    " \n",
    "        xi += dx\n",
    "        i  += 1\n",
    "        \n",
    "        \n",
    "    return [xi, yi]\n",
    "\n",
    "\n",
    "def h2(x,y):\n",
    "    return np.sinh(x)*(x-5)\n",
    "\n",
    "resODE = RK4(h2, 0.01, 0,0, 500)\n",
    "print(resODE)"
   ]
  },
  {
   "cell_type": "markdown",
   "metadata": {},
   "source": [
    "## Submitting your assignment\n",
    "\n",
    "You should commit and push your work regularly to your GitHub repository. The tutors will grade your assignment directly from there once the deadline passes."
   ]
  },
  {
   "cell_type": "code",
   "execution_count": null,
   "metadata": {},
   "outputs": [],
   "source": []
  }
 ],
 "metadata": {
  "kernelspec": {
   "display_name": "Python 3 (ipykernel)",
   "language": "python",
   "name": "python3"
  },
  "language_info": {
   "codemirror_mode": {
    "name": "ipython",
    "version": 3
   },
   "file_extension": ".py",
   "mimetype": "text/x-python",
   "name": "python",
   "nbconvert_exporter": "python",
   "pygments_lexer": "ipython3",
   "version": "3.9.12"
  }
 },
 "nbformat": 4,
 "nbformat_minor": 2
}
